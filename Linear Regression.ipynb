{
 "cells": [
  {
   "cell_type": "markdown",
   "id": "37749806",
   "metadata": {
    "papermill": {
     "duration": 0.006195,
     "end_time": "2023-01-23T05:43:39.060615",
     "exception": false,
     "start_time": "2023-01-23T05:43:39.054420",
     "status": "completed"
    },
    "tags": []
   },
   "source": [
    "**Importing Important Library**"
   ]
  },
  {
   "cell_type": "code",
   "execution_count": 1,
   "id": "7d71985b",
   "metadata": {
    "execution": {
     "iopub.execute_input": "2023-01-23T05:43:39.073738Z",
     "iopub.status.busy": "2023-01-23T05:43:39.073283Z",
     "iopub.status.idle": "2023-01-23T05:43:40.396728Z",
     "shell.execute_reply": "2023-01-23T05:43:40.395462Z"
    },
    "papermill": {
     "duration": 1.333238,
     "end_time": "2023-01-23T05:43:40.399702",
     "exception": false,
     "start_time": "2023-01-23T05:43:39.066464",
     "status": "completed"
    },
    "tags": []
   },
   "outputs": [],
   "source": [
    "import pandas as pd\n",
    "import numpy as np\n",
    "import matplotlib.pyplot as plt\n",
    "from sklearn import linear_model\n",
    "%matplotlib inline"
   ]
  },
  {
   "cell_type": "markdown",
   "id": "273a08e9",
   "metadata": {
    "papermill": {
     "duration": 0.004784,
     "end_time": "2023-01-23T05:43:40.409604",
     "exception": false,
     "start_time": "2023-01-23T05:43:40.404820",
     "status": "completed"
    },
    "tags": []
   },
   "source": [
    "**Reading a csv File**"
   ]
  },
  {
   "cell_type": "code",
   "execution_count": 2,
   "id": "15bb8ffd",
   "metadata": {
    "execution": {
     "iopub.execute_input": "2023-01-23T05:43:40.422728Z",
     "iopub.status.busy": "2023-01-23T05:43:40.421755Z",
     "iopub.status.idle": "2023-01-23T05:43:40.456002Z",
     "shell.execute_reply": "2023-01-23T05:43:40.455018Z"
    },
    "papermill": {
     "duration": 0.043979,
     "end_time": "2023-01-23T05:43:40.458609",
     "exception": false,
     "start_time": "2023-01-23T05:43:40.414630",
     "status": "completed"
    },
    "tags": []
   },
   "outputs": [
    {
     "data": {
      "text/html": [
       "<div>\n",
       "<style scoped>\n",
       "    .dataframe tbody tr th:only-of-type {\n",
       "        vertical-align: middle;\n",
       "    }\n",
       "\n",
       "    .dataframe tbody tr th {\n",
       "        vertical-align: top;\n",
       "    }\n",
       "\n",
       "    .dataframe thead th {\n",
       "        text-align: right;\n",
       "    }\n",
       "</style>\n",
       "<table border=\"1\" class=\"dataframe\">\n",
       "  <thead>\n",
       "    <tr style=\"text-align: right;\">\n",
       "      <th></th>\n",
       "      <th>year</th>\n",
       "      <th>per capita income (US$)</th>\n",
       "    </tr>\n",
       "  </thead>\n",
       "  <tbody>\n",
       "    <tr>\n",
       "      <th>42</th>\n",
       "      <td>2012</td>\n",
       "      <td>42665.25597</td>\n",
       "    </tr>\n",
       "    <tr>\n",
       "      <th>43</th>\n",
       "      <td>2013</td>\n",
       "      <td>42676.46837</td>\n",
       "    </tr>\n",
       "    <tr>\n",
       "      <th>44</th>\n",
       "      <td>2014</td>\n",
       "      <td>41039.89360</td>\n",
       "    </tr>\n",
       "    <tr>\n",
       "      <th>45</th>\n",
       "      <td>2015</td>\n",
       "      <td>35175.18898</td>\n",
       "    </tr>\n",
       "    <tr>\n",
       "      <th>46</th>\n",
       "      <td>2016</td>\n",
       "      <td>34229.19363</td>\n",
       "    </tr>\n",
       "  </tbody>\n",
       "</table>\n",
       "</div>"
      ],
      "text/plain": [
       "    year  per capita income (US$)\n",
       "42  2012              42665.25597\n",
       "43  2013              42676.46837\n",
       "44  2014              41039.89360\n",
       "45  2015              35175.18898\n",
       "46  2016              34229.19363"
      ]
     },
     "execution_count": 2,
     "metadata": {},
     "output_type": "execute_result"
    }
   ],
   "source": [
    "df = pd.read_csv(\"canada_per_capita_income.csv\")\n",
    "df.tail()"
   ]
  },
  {
   "cell_type": "markdown",
   "id": "c91fa43e",
   "metadata": {
    "papermill": {
     "duration": 0.004984,
     "end_time": "2023-01-23T05:43:40.469253",
     "exception": false,
     "start_time": "2023-01-23T05:43:40.464269",
     "status": "completed"
    },
    "tags": []
   },
   "source": [
    "**Make sure that the data must have a Linear Relationship among Different Variables**"
   ]
  },
  {
   "cell_type": "code",
   "execution_count": 3,
   "id": "dab0e19d",
   "metadata": {
    "execution": {
     "iopub.execute_input": "2023-01-23T05:43:40.483338Z",
     "iopub.status.busy": "2023-01-23T05:43:40.482445Z",
     "iopub.status.idle": "2023-01-23T05:43:40.771254Z",
     "shell.execute_reply": "2023-01-23T05:43:40.769937Z"
    },
    "papermill": {
     "duration": 0.298969,
     "end_time": "2023-01-23T05:43:40.774006",
     "exception": false,
     "start_time": "2023-01-23T05:43:40.475037",
     "status": "completed"
    },
    "tags": []
   },
   "outputs": [
    {
     "data": {
      "text/plain": [
       "Text(0.5, 1.0, 'Canada Per Capita Income')"
      ]
     },
     "execution_count": 3,
     "metadata": {},
     "output_type": "execute_result"
    },
    {
     "data": {
      "image/png": "[encoded data removed]",
      "text/plain": [
       "<Figure size 432x288 with 1 Axes>"
      ]
     },
     "metadata": {
      "needs_background": "light"
     },
     "output_type": "display_data"
    }
   ],
   "source": [
    "plt.scatter(df['year'],df['per capita income (US$)'],color='r',marker='+')\n",
    "plt.xlabel('Year')\n",
    "plt.ylabel('Per Capita Income')\n",
    "plt.title('Canada Per Capita Income')"
   ]
  },
  {
   "cell_type": "markdown",
   "id": "54878fe8",
   "metadata": {
    "papermill": {
     "duration": 0.00537,
     "end_time": "2023-01-23T05:43:40.785290",
     "exception": false,
     "start_time": "2023-01-23T05:43:40.779920",
     "status": "completed"
    },
    "tags": []
   },
   "source": [
    "**Creating a Linear Regression Model**"
   ]
  },
  {
   "cell_type": "code",
   "execution_count": 4,
   "id": "9deb3321",
   "metadata": {
    "execution": {
     "iopub.execute_input": "2023-01-23T05:43:40.798548Z",
     "iopub.status.busy": "2023-01-23T05:43:40.798113Z",
     "iopub.status.idle": "2023-01-23T05:43:40.803446Z",
     "shell.execute_reply": "2023-01-23T05:43:40.802227Z"
    },
    "papermill": {
     "duration": 0.014743,
     "end_time": "2023-01-23T05:43:40.805708",
     "exception": false,
     "start_time": "2023-01-23T05:43:40.790965",
     "status": "completed"
    },
    "tags": []
   },
   "outputs": [],
   "source": [
    "reg = linear_model.LinearRegression()"
   ]
  },
  {
   "cell_type": "markdown",
   "id": "d3de66d9",
   "metadata": {
    "papermill": {
     "duration": 0.005397,
     "end_time": "2023-01-23T05:43:40.817208",
     "exception": false,
     "start_time": "2023-01-23T05:43:40.811811",
     "status": "completed"
    },
    "tags": []
   },
   "source": [
    "**Fitting the Model with Available Data**"
   ]
  },
  {
   "cell_type": "code",
   "execution_count": 5,
   "id": "324f1544",
   "metadata": {
    "execution": {
     "iopub.execute_input": "2023-01-23T05:43:40.830549Z",
     "iopub.status.busy": "2023-01-23T05:43:40.829789Z",
     "iopub.status.idle": "2023-01-23T05:43:40.863832Z",
     "shell.execute_reply": "2023-01-23T05:43:40.862619Z"
    },
    "papermill": {
     "duration": 0.04341,
     "end_time": "2023-01-23T05:43:40.866289",
     "exception": false,
     "start_time": "2023-01-23T05:43:40.822879",
     "status": "completed"
    },
    "tags": []
   },
   "outputs": [
    {
     "data": {
      "text/plain": [
       "LinearRegression()"
      ]
     },
     "execution_count": 5,
     "metadata": {},
     "output_type": "execute_result"
    }
   ],
   "source": [
    "reg.fit(df[['year']],df['per capita income (US$)'])"
   ]
  },
  {
   "cell_type": "markdown",
   "id": "3629a3a5",
   "metadata": {
    "papermill": {
     "duration": 0.005516,
     "end_time": "2023-01-23T05:43:40.879449",
     "exception": false,
     "start_time": "2023-01-23T05:43:40.873933",
     "status": "completed"
    },
    "tags": []
   },
   "source": [
    "**Predicting the Outcome on the basis of Trained Data**"
   ]
  },
  {
   "cell_type": "code",
   "execution_count": 6,
   "id": "a987791b",
   "metadata": {
    "execution": {
     "iopub.execute_input": "2023-01-23T05:43:40.893006Z",
     "iopub.status.busy": "2023-01-23T05:43:40.892334Z",
     "iopub.status.idle": "2023-01-23T05:43:40.904700Z",
     "shell.execute_reply": "2023-01-23T05:43:40.902929Z"
    },
    "papermill": {
     "duration": 0.022126,
     "end_time": "2023-01-23T05:43:40.907356",
     "exception": false,
     "start_time": "2023-01-23T05:43:40.885230",
     "status": "completed"
    },
    "tags": []
   },
   "outputs": [
    {
     "name": "stderr",
     "output_type": "stream",
     "text": [
      "/opt/conda/lib/python3.7/site-packages/sklearn/base.py:451: UserWarning: X does not have valid feature names, but LinearRegression was fitted with feature names\n",
      "  \"X does not have valid feature names, but\"\n"
     ]
    },
    {
     "data": {
      "text/plain": [
       "array([37146.3687183])"
      ]
     },
     "execution_count": 6,
     "metadata": {},
     "output_type": "execute_result"
    }
   ],
   "source": [
    "reg.predict([[2015]])"
   ]
  },
  {
   "cell_type": "markdown",
   "id": "a967520e",
   "metadata": {
    "papermill": {
     "duration": 0.00566,
     "end_time": "2023-01-23T05:43:40.919154",
     "exception": false,
     "start_time": "2023-01-23T05:43:40.913494",
     "status": "completed"
    },
    "tags": []
   },
   "source": [
    "**Checking the Accuracy of Model (0=Least Accurate,1=Most Accurate)**"
   ]
  },
  {
   "cell_type": "code",
   "execution_count": 7,
   "id": "453572ab",
   "metadata": {
    "execution": {
     "iopub.execute_input": "2023-01-23T05:43:40.932793Z",
     "iopub.status.busy": "2023-01-23T05:43:40.932405Z",
     "iopub.status.idle": "2023-01-23T05:43:40.942571Z",
     "shell.execute_reply": "2023-01-23T05:43:40.941325Z"
    },
    "papermill": {
     "duration": 0.019902,
     "end_time": "2023-01-23T05:43:40.944972",
     "exception": false,
     "start_time": "2023-01-23T05:43:40.925070",
     "status": "completed"
    },
    "tags": []
   },
   "outputs": [
    {
     "data": {
      "text/plain": [
       "0.890916917957032"
      ]
     },
     "execution_count": 7,
     "metadata": {},
     "output_type": "execute_result"
    }
   ],
   "source": [
    "reg.score(df[['year']],df['per capita income (US$)'])"
   ]
  },
  {
   "cell_type": "markdown",
   "id": "e1efed45",
   "metadata": {
    "papermill": {
     "duration": 0.005701,
     "end_time": "2023-01-23T05:43:40.956671",
     "exception": false,
     "start_time": "2023-01-23T05:43:40.950970",
     "status": "completed"
    },
    "tags": []
   },
   "source": [
    "**Checking the Values of Linear Regression Equation**"
   ]
  },
  {
   "cell_type": "code",
   "execution_count": 8,
   "id": "acfa799e",
   "metadata": {
    "execution": {
     "iopub.execute_input": "2023-01-23T05:43:40.971661Z",
     "iopub.status.busy": "2023-01-23T05:43:40.971269Z",
     "iopub.status.idle": "2023-01-23T05:43:40.978883Z",
     "shell.execute_reply": "2023-01-23T05:43:40.977575Z"
    },
    "papermill": {
     "duration": 0.018064,
     "end_time": "2023-01-23T05:43:40.981382",
     "exception": false,
     "start_time": "2023-01-23T05:43:40.963318",
     "status": "completed"
    },
    "tags": []
   },
   "outputs": [
    {
     "data": {
      "text/plain": [
       "array([828.46507522])"
      ]
     },
     "execution_count": 8,
     "metadata": {},
     "output_type": "execute_result"
    }
   ],
   "source": [
    "reg.coef_"
   ]
  },
  {
   "cell_type": "code",
   "execution_count": 9,
   "id": "60902a81",
   "metadata": {
    "execution": {
     "iopub.execute_input": "2023-01-23T05:43:40.995583Z",
     "iopub.status.busy": "2023-01-23T05:43:40.995203Z",
     "iopub.status.idle": "2023-01-23T05:43:41.002140Z",
     "shell.execute_reply": "2023-01-23T05:43:41.000923Z"
    },
    "papermill": {
     "duration": 0.017116,
     "end_time": "2023-01-23T05:43:41.004678",
     "exception": false,
     "start_time": "2023-01-23T05:43:40.987562",
     "status": "completed"
    },
    "tags": []
   },
   "outputs": [
    {
     "data": {
      "text/plain": [
       "-1632210.7578554575"
      ]
     },
     "execution_count": 9,
     "metadata": {},
     "output_type": "execute_result"
    }
   ],
   "source": [
    "reg.intercept_"
   ]
  },
  {
   "attachments": {
    "Regression-Analysis-Formula-2.jpg": {
     "image/jpeg": "[encoded data removed]"
    }
   },
   "cell_type": "markdown",
   "id": "3936b994",
   "metadata": {
    "papermill": {
     "duration": 0.006499,
     "end_time": "2023-01-23T05:43:41.017658",
     "exception": false,
     "start_time": "2023-01-23T05:43:41.011159",
     "status": "completed"
    },
    "tags": []
   },
   "source": [
    "**Verifying the Linear Regression Equation**\n",
    "![Regression-Analysis-Formula-2.jpg](attachment:Regression-Analysis-Formula-2.jpg)"
   ]
  },
  {
   "cell_type": "code",
   "execution_count": 10,
   "id": "14fc0432",
   "metadata": {
    "execution": {
     "iopub.execute_input": "2023-01-23T05:43:41.032513Z",
     "iopub.status.busy": "2023-01-23T05:43:41.032074Z",
     "iopub.status.idle": "2023-01-23T05:43:41.038882Z",
     "shell.execute_reply": "2023-01-23T05:43:41.037646Z"
    },
    "papermill": {
     "duration": 0.016536,
     "end_time": "2023-01-23T05:43:41.041051",
     "exception": false,
     "start_time": "2023-01-23T05:43:41.024515",
     "status": "completed"
    },
    "tags": []
   },
   "outputs": [
    {
     "name": "stdout",
     "output_type": "stream",
     "text": [
      "37146.368712842464\n"
     ]
    }
   ],
   "source": [
    "m = 828.46507522 # reg.coef_ is equal to m\n",
    "x = 2015 # x is equal to the value we want to predict\n",
    "b = -1632210.7578554575 # reg.intercept_ is equal to b\n",
    "y = m*x + b # Equation of Linear Regression\n",
    "print(y)"
   ]
  }
 ],
 "metadata": {
  "kernelspec": {
   "display_name": "Python 3 (ipykernel)",
   "language": "python",
   "name": "python3"
  },
  "language_info": {
   "codemirror_mode": {
    "name": "ipython",
    "version": 3
   },
   "file_extension": ".py",
   "mimetype": "text/x-python",
   "name": "python",
   "nbconvert_exporter": "python",
   "pygments_lexer": "ipython3",
   "version": "3.11.1"
  },
  "papermill": {
   "default_parameters": {},
   "duration": 14.316433,
   "end_time": "2023-01-23T05:43:43.875833",
   "environment_variables": {},
   "exception": null,
   "input_path": "__notebook__.ipynb",
   "output_path": "__notebook__.ipynb",
   "parameters": {},
   "start_time": "2023-01-23T05:43:29.559400",
   "version": "2.3.4"
  },
  "vscode": {
   "interpreter": {
    "hash": "07df6efb1e40666884816ca04b3913c8c99028597c2766888796efd5c647c034"
   }
  }
 },
 "nbformat": 4,
 "nbformat_minor": 5
}
