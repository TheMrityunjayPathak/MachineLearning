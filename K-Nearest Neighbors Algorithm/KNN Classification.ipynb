{
 "cells": [
  {
   "cell_type": "markdown",
   "id": "7b0c3c31",
   "metadata": {
    "papermill": {
     "duration": 0.008875,
     "end_time": "2023-04-02T14:08:04.786268",
     "exception": false,
     "start_time": "2023-04-02T14:08:04.777393",
     "status": "completed"
    },
    "tags": []
   },
   "source": [
    "<h1 style=\"color:black\" align=\"center\">KNN Classification</h1>"
   ]
  },
  {
   "cell_type": "markdown",
   "id": "6c265412",
   "metadata": {
    "papermill": {
     "duration": 0.009342,
     "end_time": "2023-04-02T14:08:04.803940",
     "exception": false,
     "start_time": "2023-04-02T14:08:04.794598",
     "status": "completed"
    },
    "tags": []
   },
   "source": [
    "**Importing Important Libraries**"
   ]
  },
  {
   "cell_type": "code",
   "execution_count": 34,
   "id": "85e8b6c7",
   "metadata": {
    "execution": {
     "iopub.execute_input": "2023-04-02T14:08:04.822287Z",
     "iopub.status.busy": "2023-04-02T14:08:04.821920Z",
     "iopub.status.idle": "2023-04-02T14:08:04.833586Z",
     "shell.execute_reply": "2023-04-02T14:08:04.832477Z"
    },
    "papermill": {
     "duration": 0.023797,
     "end_time": "2023-04-02T14:08:04.835916",
     "exception": false,
     "start_time": "2023-04-02T14:08:04.812119",
     "status": "completed"
    },
    "tags": []
   },
   "outputs": [],
   "source": [
    "import pandas as pd\n",
    "import seaborn as sns\n",
    "from matplotlib import pyplot as plt\n",
    "%matplotlib inline"
   ]
  },
  {
   "cell_type": "markdown",
   "id": "b8381e06",
   "metadata": {
    "papermill": {
     "duration": 0.007693,
     "end_time": "2023-04-02T14:08:04.852172",
     "exception": false,
     "start_time": "2023-04-02T14:08:04.844479",
     "status": "completed"
    },
    "tags": []
   },
   "source": [
    "**Importing Dataset from sklearn Library**"
   ]
  },
  {
   "cell_type": "code",
   "execution_count": 4,
   "id": "14abbf84",
   "metadata": {
    "execution": {
     "iopub.execute_input": "2023-04-02T14:08:04.870476Z",
     "iopub.status.busy": "2023-04-02T14:08:04.869646Z",
     "iopub.status.idle": "2023-04-02T14:08:06.017202Z",
     "shell.execute_reply": "2023-04-02T14:08:06.016055Z"
    },
    "papermill": {
     "duration": 1.159134,
     "end_time": "2023-04-02T14:08:06.019346",
     "exception": false,
     "start_time": "2023-04-02T14:08:04.860212",
     "status": "completed"
    },
    "tags": []
   },
   "outputs": [],
   "source": [
    "from sklearn.datasets import load_iris"
   ]
  },
  {
   "cell_type": "code",
   "execution_count": 5,
   "id": "a1f2c107",
   "metadata": {
    "execution": {
     "iopub.execute_input": "2023-04-02T14:08:06.037137Z",
     "iopub.status.busy": "2023-04-02T14:08:06.036760Z",
     "iopub.status.idle": "2023-04-02T14:08:06.045417Z",
     "shell.execute_reply": "2023-04-02T14:08:06.044421Z"
    },
    "papermill": {
     "duration": 0.019977,
     "end_time": "2023-04-02T14:08:06.047693",
     "exception": false,
     "start_time": "2023-04-02T14:08:06.027716",
     "status": "completed"
    },
    "tags": []
   },
   "outputs": [],
   "source": [
    "iris = load_iris()"
   ]
  },
  {
   "cell_type": "markdown",
   "id": "4e3033bb",
   "metadata": {
    "papermill": {
     "duration": 0.008588,
     "end_time": "2023-04-02T14:08:06.064267",
     "exception": false,
     "start_time": "2023-04-02T14:08:06.055679",
     "status": "completed"
    },
    "tags": []
   },
   "source": [
    "**Column's in Iris Dataset**"
   ]
  },
  {
   "cell_type": "code",
   "execution_count": 6,
   "id": "235c0aa1",
   "metadata": {
    "execution": {
     "iopub.execute_input": "2023-04-02T14:08:06.082697Z",
     "iopub.status.busy": "2023-04-02T14:08:06.082025Z",
     "iopub.status.idle": "2023-04-02T14:08:06.088975Z",
     "shell.execute_reply": "2023-04-02T14:08:06.088123Z"
    },
    "papermill": {
     "duration": 0.019073,
     "end_time": "2023-04-02T14:08:06.091629",
     "exception": false,
     "start_time": "2023-04-02T14:08:06.072556",
     "status": "completed"
    },
    "tags": []
   },
   "outputs": [
    {
     "data": {
      "text/plain": [
       "['DESCR',\n",
       " 'data',\n",
       " 'data_module',\n",
       " 'feature_names',\n",
       " 'filename',\n",
       " 'frame',\n",
       " 'target',\n",
       " 'target_names']"
      ]
     },
     "execution_count": 6,
     "metadata": {},
     "output_type": "execute_result"
    }
   ],
   "source": [
    "dir(iris)"
   ]
  },
  {
   "cell_type": "markdown",
   "id": "a42b4ec6",
   "metadata": {
    "papermill": {
     "duration": 0.007722,
     "end_time": "2023-04-02T14:08:06.107572",
     "exception": false,
     "start_time": "2023-04-02T14:08:06.099850",
     "status": "completed"
    },
    "tags": []
   },
   "source": [
    "**Feature's in Iris Dataset**"
   ]
  },
  {
   "cell_type": "code",
   "execution_count": 7,
   "id": "09203323",
   "metadata": {
    "execution": {
     "iopub.execute_input": "2023-04-02T14:08:06.125364Z",
     "iopub.status.busy": "2023-04-02T14:08:06.125040Z",
     "iopub.status.idle": "2023-04-02T14:08:06.131287Z",
     "shell.execute_reply": "2023-04-02T14:08:06.129751Z"
    },
    "papermill": {
     "duration": 0.018159,
     "end_time": "2023-04-02T14:08:06.133783",
     "exception": false,
     "start_time": "2023-04-02T14:08:06.115624",
     "status": "completed"
    },
    "tags": []
   },
   "outputs": [
    {
     "data": {
      "text/plain": [
       "['sepal length (cm)',\n",
       " 'sepal width (cm)',\n",
       " 'petal length (cm)',\n",
       " 'petal width (cm)']"
      ]
     },
     "execution_count": 7,
     "metadata": {},
     "output_type": "execute_result"
    }
   ],
   "source": [
    "iris.feature_names"
   ]
  },
  {
   "cell_type": "markdown",
   "id": "0218fe17",
   "metadata": {
    "papermill": {
     "duration": 0.007845,
     "end_time": "2023-04-02T14:08:06.149945",
     "exception": false,
     "start_time": "2023-04-02T14:08:06.142100",
     "status": "completed"
    },
    "tags": []
   },
   "source": [
    "**Creating a DataFrame from Data**"
   ]
  },
  {
   "cell_type": "code",
   "execution_count": 8,
   "id": "2dc3c975",
   "metadata": {
    "execution": {
     "iopub.execute_input": "2023-04-02T14:08:06.168097Z",
     "iopub.status.busy": "2023-04-02T14:08:06.167704Z",
     "iopub.status.idle": "2023-04-02T14:08:06.196662Z",
     "shell.execute_reply": "2023-04-02T14:08:06.195119Z"
    },
    "papermill": {
     "duration": 0.040557,
     "end_time": "2023-04-02T14:08:06.198718",
     "exception": false,
     "start_time": "2023-04-02T14:08:06.158161",
     "status": "completed"
    },
    "tags": []
   },
   "outputs": [
    {
     "data": {
      "text/html": [
       "<div>\n",
       "<style scoped>\n",
       "    .dataframe tbody tr th:only-of-type {\n",
       "        vertical-align: middle;\n",
       "    }\n",
       "\n",
       "    .dataframe tbody tr th {\n",
       "        vertical-align: top;\n",
       "    }\n",
       "\n",
       "    .dataframe thead th {\n",
       "        text-align: right;\n",
       "    }\n",
       "</style>\n",
       "<table border=\"1\" class=\"dataframe\">\n",
       "  <thead>\n",
       "    <tr style=\"text-align: right;\">\n",
       "      <th></th>\n",
       "      <th>sepal length (cm)</th>\n",
       "      <th>sepal width (cm)</th>\n",
       "      <th>petal length (cm)</th>\n",
       "      <th>petal width (cm)</th>\n",
       "    </tr>\n",
       "  </thead>\n",
       "  <tbody>\n",
       "    <tr>\n",
       "      <th>0</th>\n",
       "      <td>5.1</td>\n",
       "      <td>3.5</td>\n",
       "      <td>1.4</td>\n",
       "      <td>0.2</td>\n",
       "    </tr>\n",
       "    <tr>\n",
       "      <th>1</th>\n",
       "      <td>4.9</td>\n",
       "      <td>3.0</td>\n",
       "      <td>1.4</td>\n",
       "      <td>0.2</td>\n",
       "    </tr>\n",
       "    <tr>\n",
       "      <th>2</th>\n",
       "      <td>4.7</td>\n",
       "      <td>3.2</td>\n",
       "      <td>1.3</td>\n",
       "      <td>0.2</td>\n",
       "    </tr>\n",
       "    <tr>\n",
       "      <th>3</th>\n",
       "      <td>4.6</td>\n",
       "      <td>3.1</td>\n",
       "      <td>1.5</td>\n",
       "      <td>0.2</td>\n",
       "    </tr>\n",
       "    <tr>\n",
       "      <th>4</th>\n",
       "      <td>5.0</td>\n",
       "      <td>3.6</td>\n",
       "      <td>1.4</td>\n",
       "      <td>0.2</td>\n",
       "    </tr>\n",
       "  </tbody>\n",
       "</table>\n",
       "</div>"
      ],
      "text/plain": [
       "   sepal length (cm)  sepal width (cm)  petal length (cm)  petal width (cm)\n",
       "0                5.1               3.5                1.4               0.2\n",
       "1                4.9               3.0                1.4               0.2\n",
       "2                4.7               3.2                1.3               0.2\n",
       "3                4.6               3.1                1.5               0.2\n",
       "4                5.0               3.6                1.4               0.2"
      ]
     },
     "execution_count": 8,
     "metadata": {},
     "output_type": "execute_result"
    }
   ],
   "source": [
    "df = pd.DataFrame(iris.data,columns=iris.feature_names)\n",
    "df.head()"
   ]
  },
  {
   "cell_type": "markdown",
   "id": "4bc57e56",
   "metadata": {
    "papermill": {
     "duration": 0.007673,
     "end_time": "2023-04-02T14:08:06.214815",
     "exception": false,
     "start_time": "2023-04-02T14:08:06.207142",
     "status": "completed"
    },
    "tags": []
   },
   "source": [
    "**Adding Target Column to the DataFrame**"
   ]
  },
  {
   "cell_type": "code",
   "execution_count": 9,
   "id": "2edcea37",
   "metadata": {
    "execution": {
     "iopub.execute_input": "2023-04-02T14:08:06.232786Z",
     "iopub.status.busy": "2023-04-02T14:08:06.231852Z",
     "iopub.status.idle": "2023-04-02T14:08:06.248312Z",
     "shell.execute_reply": "2023-04-02T14:08:06.247372Z"
    },
    "papermill": {
     "duration": 0.027379,
     "end_time": "2023-04-02T14:08:06.249915",
     "exception": false,
     "start_time": "2023-04-02T14:08:06.222536",
     "status": "completed"
    },
    "tags": []
   },
   "outputs": [
    {
     "data": {
      "text/html": [
       "<div>\n",
       "<style scoped>\n",
       "    .dataframe tbody tr th:only-of-type {\n",
       "        vertical-align: middle;\n",
       "    }\n",
       "\n",
       "    .dataframe tbody tr th {\n",
       "        vertical-align: top;\n",
       "    }\n",
       "\n",
       "    .dataframe thead th {\n",
       "        text-align: right;\n",
       "    }\n",
       "</style>\n",
       "<table border=\"1\" class=\"dataframe\">\n",
       "  <thead>\n",
       "    <tr style=\"text-align: right;\">\n",
       "      <th></th>\n",
       "      <th>sepal length (cm)</th>\n",
       "      <th>sepal width (cm)</th>\n",
       "      <th>petal length (cm)</th>\n",
       "      <th>petal width (cm)</th>\n",
       "      <th>target</th>\n",
       "    </tr>\n",
       "  </thead>\n",
       "  <tbody>\n",
       "    <tr>\n",
       "      <th>0</th>\n",
       "      <td>5.1</td>\n",
       "      <td>3.5</td>\n",
       "      <td>1.4</td>\n",
       "      <td>0.2</td>\n",
       "      <td>0</td>\n",
       "    </tr>\n",
       "    <tr>\n",
       "      <th>1</th>\n",
       "      <td>4.9</td>\n",
       "      <td>3.0</td>\n",
       "      <td>1.4</td>\n",
       "      <td>0.2</td>\n",
       "      <td>0</td>\n",
       "    </tr>\n",
       "    <tr>\n",
       "      <th>2</th>\n",
       "      <td>4.7</td>\n",
       "      <td>3.2</td>\n",
       "      <td>1.3</td>\n",
       "      <td>0.2</td>\n",
       "      <td>0</td>\n",
       "    </tr>\n",
       "    <tr>\n",
       "      <th>3</th>\n",
       "      <td>4.6</td>\n",
       "      <td>3.1</td>\n",
       "      <td>1.5</td>\n",
       "      <td>0.2</td>\n",
       "      <td>0</td>\n",
       "    </tr>\n",
       "    <tr>\n",
       "      <th>4</th>\n",
       "      <td>5.0</td>\n",
       "      <td>3.6</td>\n",
       "      <td>1.4</td>\n",
       "      <td>0.2</td>\n",
       "      <td>0</td>\n",
       "    </tr>\n",
       "  </tbody>\n",
       "</table>\n",
       "</div>"
      ],
      "text/plain": [
       "   sepal length (cm)  sepal width (cm)  petal length (cm)  petal width (cm)  \\\n",
       "0                5.1               3.5                1.4               0.2   \n",
       "1                4.9               3.0                1.4               0.2   \n",
       "2                4.7               3.2                1.3               0.2   \n",
       "3                4.6               3.1                1.5               0.2   \n",
       "4                5.0               3.6                1.4               0.2   \n",
       "\n",
       "   target  \n",
       "0       0  \n",
       "1       0  \n",
       "2       0  \n",
       "3       0  \n",
       "4       0  "
      ]
     },
     "execution_count": 9,
     "metadata": {},
     "output_type": "execute_result"
    }
   ],
   "source": [
    "df[\"target\"] = iris.target\n",
    "df.head()"
   ]
  },
  {
   "cell_type": "markdown",
   "id": "42375537",
   "metadata": {
    "papermill": {
     "duration": 0.007833,
     "end_time": "2023-04-02T14:08:06.266108",
     "exception": false,
     "start_time": "2023-04-02T14:08:06.258275",
     "status": "completed"
    },
    "tags": []
   },
   "source": [
    "**Exploring the Target Set**"
   ]
  },
  {
   "cell_type": "code",
   "execution_count": 10,
   "id": "5a2fd7c7",
   "metadata": {
    "execution": {
     "iopub.execute_input": "2023-04-02T14:08:06.285130Z",
     "iopub.status.busy": "2023-04-02T14:08:06.284786Z",
     "iopub.status.idle": "2023-04-02T14:08:06.290461Z",
     "shell.execute_reply": "2023-04-02T14:08:06.289480Z"
    },
    "papermill": {
     "duration": 0.017837,
     "end_time": "2023-04-02T14:08:06.292320",
     "exception": false,
     "start_time": "2023-04-02T14:08:06.274483",
     "status": "completed"
    },
    "tags": []
   },
   "outputs": [
    {
     "data": {
      "text/plain": [
       "array(['setosa', 'versicolor', 'virginica'], dtype='<U10')"
      ]
     },
     "execution_count": 10,
     "metadata": {},
     "output_type": "execute_result"
    }
   ],
   "source": [
    "iris.target_names"
   ]
  },
  {
   "cell_type": "code",
   "execution_count": 11,
   "id": "dd233081",
   "metadata": {
    "execution": {
     "iopub.execute_input": "2023-04-02T14:08:06.311089Z",
     "iopub.status.busy": "2023-04-02T14:08:06.310774Z",
     "iopub.status.idle": "2023-04-02T14:08:06.326457Z",
     "shell.execute_reply": "2023-04-02T14:08:06.324984Z"
    },
    "papermill": {
     "duration": 0.027797,
     "end_time": "2023-04-02T14:08:06.328807",
     "exception": false,
     "start_time": "2023-04-02T14:08:06.301010",
     "status": "completed"
    },
    "tags": []
   },
   "outputs": [
    {
     "data": {
      "text/html": [
       "<div>\n",
       "<style scoped>\n",
       "    .dataframe tbody tr th:only-of-type {\n",
       "        vertical-align: middle;\n",
       "    }\n",
       "\n",
       "    .dataframe tbody tr th {\n",
       "        vertical-align: top;\n",
       "    }\n",
       "\n",
       "    .dataframe thead th {\n",
       "        text-align: right;\n",
       "    }\n",
       "</style>\n",
       "<table border=\"1\" class=\"dataframe\">\n",
       "  <thead>\n",
       "    <tr style=\"text-align: right;\">\n",
       "      <th></th>\n",
       "      <th>sepal length (cm)</th>\n",
       "      <th>sepal width (cm)</th>\n",
       "      <th>petal length (cm)</th>\n",
       "      <th>petal width (cm)</th>\n",
       "      <th>target</th>\n",
       "    </tr>\n",
       "  </thead>\n",
       "  <tbody>\n",
       "    <tr>\n",
       "      <th>0</th>\n",
       "      <td>5.1</td>\n",
       "      <td>3.5</td>\n",
       "      <td>1.4</td>\n",
       "      <td>0.2</td>\n",
       "      <td>0</td>\n",
       "    </tr>\n",
       "    <tr>\n",
       "      <th>1</th>\n",
       "      <td>4.9</td>\n",
       "      <td>3.0</td>\n",
       "      <td>1.4</td>\n",
       "      <td>0.2</td>\n",
       "      <td>0</td>\n",
       "    </tr>\n",
       "    <tr>\n",
       "      <th>2</th>\n",
       "      <td>4.7</td>\n",
       "      <td>3.2</td>\n",
       "      <td>1.3</td>\n",
       "      <td>0.2</td>\n",
       "      <td>0</td>\n",
       "    </tr>\n",
       "    <tr>\n",
       "      <th>3</th>\n",
       "      <td>4.6</td>\n",
       "      <td>3.1</td>\n",
       "      <td>1.5</td>\n",
       "      <td>0.2</td>\n",
       "      <td>0</td>\n",
       "    </tr>\n",
       "    <tr>\n",
       "      <th>4</th>\n",
       "      <td>5.0</td>\n",
       "      <td>3.6</td>\n",
       "      <td>1.4</td>\n",
       "      <td>0.2</td>\n",
       "      <td>0</td>\n",
       "    </tr>\n",
       "  </tbody>\n",
       "</table>\n",
       "</div>"
      ],
      "text/plain": [
       "   sepal length (cm)  sepal width (cm)  petal length (cm)  petal width (cm)  \\\n",
       "0                5.1               3.5                1.4               0.2   \n",
       "1                4.9               3.0                1.4               0.2   \n",
       "2                4.7               3.2                1.3               0.2   \n",
       "3                4.6               3.1                1.5               0.2   \n",
       "4                5.0               3.6                1.4               0.2   \n",
       "\n",
       "   target  \n",
       "0       0  \n",
       "1       0  \n",
       "2       0  \n",
       "3       0  \n",
       "4       0  "
      ]
     },
     "execution_count": 11,
     "metadata": {},
     "output_type": "execute_result"
    }
   ],
   "source": [
    "df[df.target==0].head()"
   ]
  },
  {
   "cell_type": "code",
   "execution_count": 12,
   "id": "bddfa5f7",
   "metadata": {
    "execution": {
     "iopub.execute_input": "2023-04-02T14:08:06.347781Z",
     "iopub.status.busy": "2023-04-02T14:08:06.347428Z",
     "iopub.status.idle": "2023-04-02T14:08:06.361463Z",
     "shell.execute_reply": "2023-04-02T14:08:06.359950Z"
    },
    "papermill": {
     "duration": 0.026224,
     "end_time": "2023-04-02T14:08:06.363703",
     "exception": false,
     "start_time": "2023-04-02T14:08:06.337479",
     "status": "completed"
    },
    "tags": []
   },
   "outputs": [
    {
     "data": {
      "text/html": [
       "<div>\n",
       "<style scoped>\n",
       "    .dataframe tbody tr th:only-of-type {\n",
       "        vertical-align: middle;\n",
       "    }\n",
       "\n",
       "    .dataframe tbody tr th {\n",
       "        vertical-align: top;\n",
       "    }\n",
       "\n",
       "    .dataframe thead th {\n",
       "        text-align: right;\n",
       "    }\n",
       "</style>\n",
       "<table border=\"1\" class=\"dataframe\">\n",
       "  <thead>\n",
       "    <tr style=\"text-align: right;\">\n",
       "      <th></th>\n",
       "      <th>sepal length (cm)</th>\n",
       "      <th>sepal width (cm)</th>\n",
       "      <th>petal length (cm)</th>\n",
       "      <th>petal width (cm)</th>\n",
       "      <th>target</th>\n",
       "    </tr>\n",
       "  </thead>\n",
       "  <tbody>\n",
       "    <tr>\n",
       "      <th>50</th>\n",
       "      <td>7.0</td>\n",
       "      <td>3.2</td>\n",
       "      <td>4.7</td>\n",
       "      <td>1.4</td>\n",
       "      <td>1</td>\n",
       "    </tr>\n",
       "    <tr>\n",
       "      <th>51</th>\n",
       "      <td>6.4</td>\n",
       "      <td>3.2</td>\n",
       "      <td>4.5</td>\n",
       "      <td>1.5</td>\n",
       "      <td>1</td>\n",
       "    </tr>\n",
       "    <tr>\n",
       "      <th>52</th>\n",
       "      <td>6.9</td>\n",
       "      <td>3.1</td>\n",
       "      <td>4.9</td>\n",
       "      <td>1.5</td>\n",
       "      <td>1</td>\n",
       "    </tr>\n",
       "    <tr>\n",
       "      <th>53</th>\n",
       "      <td>5.5</td>\n",
       "      <td>2.3</td>\n",
       "      <td>4.0</td>\n",
       "      <td>1.3</td>\n",
       "      <td>1</td>\n",
       "    </tr>\n",
       "    <tr>\n",
       "      <th>54</th>\n",
       "      <td>6.5</td>\n",
       "      <td>2.8</td>\n",
       "      <td>4.6</td>\n",
       "      <td>1.5</td>\n",
       "      <td>1</td>\n",
       "    </tr>\n",
       "  </tbody>\n",
       "</table>\n",
       "</div>"
      ],
      "text/plain": [
       "    sepal length (cm)  sepal width (cm)  petal length (cm)  petal width (cm)  \\\n",
       "50                7.0               3.2                4.7               1.4   \n",
       "51                6.4               3.2                4.5               1.5   \n",
       "52                6.9               3.1                4.9               1.5   \n",
       "53                5.5               2.3                4.0               1.3   \n",
       "54                6.5               2.8                4.6               1.5   \n",
       "\n",
       "    target  \n",
       "50       1  \n",
       "51       1  \n",
       "52       1  \n",
       "53       1  \n",
       "54       1  "
      ]
     },
     "execution_count": 12,
     "metadata": {},
     "output_type": "execute_result"
    }
   ],
   "source": [
    "df[df.target==1].head()"
   ]
  },
  {
   "cell_type": "code",
   "execution_count": 13,
   "id": "90d3dd4f",
   "metadata": {
    "execution": {
     "iopub.execute_input": "2023-04-02T14:08:06.382614Z",
     "iopub.status.busy": "2023-04-02T14:08:06.382296Z",
     "iopub.status.idle": "2023-04-02T14:08:06.394603Z",
     "shell.execute_reply": "2023-04-02T14:08:06.393903Z"
    },
    "papermill": {
     "duration": 0.023993,
     "end_time": "2023-04-02T14:08:06.396453",
     "exception": false,
     "start_time": "2023-04-02T14:08:06.372460",
     "status": "completed"
    },
    "tags": []
   },
   "outputs": [
    {
     "data": {
      "text/html": [
       "<div>\n",
       "<style scoped>\n",
       "    .dataframe tbody tr th:only-of-type {\n",
       "        vertical-align: middle;\n",
       "    }\n",
       "\n",
       "    .dataframe tbody tr th {\n",
       "        vertical-align: top;\n",
       "    }\n",
       "\n",
       "    .dataframe thead th {\n",
       "        text-align: right;\n",
       "    }\n",
       "</style>\n",
       "<table border=\"1\" class=\"dataframe\">\n",
       "  <thead>\n",
       "    <tr style=\"text-align: right;\">\n",
       "      <th></th>\n",
       "      <th>sepal length (cm)</th>\n",
       "      <th>sepal width (cm)</th>\n",
       "      <th>petal length (cm)</th>\n",
       "      <th>petal width (cm)</th>\n",
       "      <th>target</th>\n",
       "    </tr>\n",
       "  </thead>\n",
       "  <tbody>\n",
       "    <tr>\n",
       "      <th>100</th>\n",
       "      <td>6.3</td>\n",
       "      <td>3.3</td>\n",
       "      <td>6.0</td>\n",
       "      <td>2.5</td>\n",
       "      <td>2</td>\n",
       "    </tr>\n",
       "    <tr>\n",
       "      <th>101</th>\n",
       "      <td>5.8</td>\n",
       "      <td>2.7</td>\n",
       "      <td>5.1</td>\n",
       "      <td>1.9</td>\n",
       "      <td>2</td>\n",
       "    </tr>\n",
       "    <tr>\n",
       "      <th>102</th>\n",
       "      <td>7.1</td>\n",
       "      <td>3.0</td>\n",
       "      <td>5.9</td>\n",
       "      <td>2.1</td>\n",
       "      <td>2</td>\n",
       "    </tr>\n",
       "    <tr>\n",
       "      <th>103</th>\n",
       "      <td>6.3</td>\n",
       "      <td>2.9</td>\n",
       "      <td>5.6</td>\n",
       "      <td>1.8</td>\n",
       "      <td>2</td>\n",
       "    </tr>\n",
       "    <tr>\n",
       "      <th>104</th>\n",
       "      <td>6.5</td>\n",
       "      <td>3.0</td>\n",
       "      <td>5.8</td>\n",
       "      <td>2.2</td>\n",
       "      <td>2</td>\n",
       "    </tr>\n",
       "  </tbody>\n",
       "</table>\n",
       "</div>"
      ],
      "text/plain": [
       "     sepal length (cm)  sepal width (cm)  petal length (cm)  petal width (cm)  \\\n",
       "100                6.3               3.3                6.0               2.5   \n",
       "101                5.8               2.7                5.1               1.9   \n",
       "102                7.1               3.0                5.9               2.1   \n",
       "103                6.3               2.9                5.6               1.8   \n",
       "104                6.5               3.0                5.8               2.2   \n",
       "\n",
       "     target  \n",
       "100       2  \n",
       "101       2  \n",
       "102       2  \n",
       "103       2  \n",
       "104       2  "
      ]
     },
     "execution_count": 13,
     "metadata": {},
     "output_type": "execute_result"
    }
   ],
   "source": [
    "df[df.target==2].head()"
   ]
  },
  {
   "cell_type": "markdown",
   "id": "61861031",
   "metadata": {
    "papermill": {
     "duration": 0.008673,
     "end_time": "2023-04-02T14:08:06.414267",
     "exception": false,
     "start_time": "2023-04-02T14:08:06.405594",
     "status": "completed"
    },
    "tags": []
   },
   "source": [
    "**Adding Target Name to the Data Frame**"
   ]
  },
  {
   "cell_type": "code",
   "execution_count": 14,
   "id": "58bbaa1e",
   "metadata": {
    "execution": {
     "iopub.execute_input": "2023-04-02T14:08:06.433848Z",
     "iopub.status.busy": "2023-04-02T14:08:06.433514Z",
     "iopub.status.idle": "2023-04-02T14:08:06.447585Z",
     "shell.execute_reply": "2023-04-02T14:08:06.446276Z"
    },
    "papermill": {
     "duration": 0.026375,
     "end_time": "2023-04-02T14:08:06.449635",
     "exception": false,
     "start_time": "2023-04-02T14:08:06.423260",
     "status": "completed"
    },
    "tags": []
   },
   "outputs": [
    {
     "data": {
      "text/html": [
       "<div>\n",
       "<style scoped>\n",
       "    .dataframe tbody tr th:only-of-type {\n",
       "        vertical-align: middle;\n",
       "    }\n",
       "\n",
       "    .dataframe tbody tr th {\n",
       "        vertical-align: top;\n",
       "    }\n",
       "\n",
       "    .dataframe thead th {\n",
       "        text-align: right;\n",
       "    }\n",
       "</style>\n",
       "<table border=\"1\" class=\"dataframe\">\n",
       "  <thead>\n",
       "    <tr style=\"text-align: right;\">\n",
       "      <th></th>\n",
       "      <th>sepal length (cm)</th>\n",
       "      <th>sepal width (cm)</th>\n",
       "      <th>petal length (cm)</th>\n",
       "      <th>petal width (cm)</th>\n",
       "      <th>target</th>\n",
       "      <th>flower_name</th>\n",
       "    </tr>\n",
       "  </thead>\n",
       "  <tbody>\n",
       "    <tr>\n",
       "      <th>0</th>\n",
       "      <td>5.1</td>\n",
       "      <td>3.5</td>\n",
       "      <td>1.4</td>\n",
       "      <td>0.2</td>\n",
       "      <td>0</td>\n",
       "      <td>setosa</td>\n",
       "    </tr>\n",
       "    <tr>\n",
       "      <th>1</th>\n",
       "      <td>4.9</td>\n",
       "      <td>3.0</td>\n",
       "      <td>1.4</td>\n",
       "      <td>0.2</td>\n",
       "      <td>0</td>\n",
       "      <td>setosa</td>\n",
       "    </tr>\n",
       "    <tr>\n",
       "      <th>2</th>\n",
       "      <td>4.7</td>\n",
       "      <td>3.2</td>\n",
       "      <td>1.3</td>\n",
       "      <td>0.2</td>\n",
       "      <td>0</td>\n",
       "      <td>setosa</td>\n",
       "    </tr>\n",
       "    <tr>\n",
       "      <th>3</th>\n",
       "      <td>4.6</td>\n",
       "      <td>3.1</td>\n",
       "      <td>1.5</td>\n",
       "      <td>0.2</td>\n",
       "      <td>0</td>\n",
       "      <td>setosa</td>\n",
       "    </tr>\n",
       "    <tr>\n",
       "      <th>4</th>\n",
       "      <td>5.0</td>\n",
       "      <td>3.6</td>\n",
       "      <td>1.4</td>\n",
       "      <td>0.2</td>\n",
       "      <td>0</td>\n",
       "      <td>setosa</td>\n",
       "    </tr>\n",
       "  </tbody>\n",
       "</table>\n",
       "</div>"
      ],
      "text/plain": [
       "   sepal length (cm)  sepal width (cm)  petal length (cm)  petal width (cm)  \\\n",
       "0                5.1               3.5                1.4               0.2   \n",
       "1                4.9               3.0                1.4               0.2   \n",
       "2                4.7               3.2                1.3               0.2   \n",
       "3                4.6               3.1                1.5               0.2   \n",
       "4                5.0               3.6                1.4               0.2   \n",
       "\n",
       "   target flower_name  \n",
       "0       0      setosa  \n",
       "1       0      setosa  \n",
       "2       0      setosa  \n",
       "3       0      setosa  \n",
       "4       0      setosa  "
      ]
     },
     "execution_count": 14,
     "metadata": {},
     "output_type": "execute_result"
    }
   ],
   "source": [
    "df[\"flower_name\"] = df.target.apply(lambda x:iris.target_names[x])\n",
    "df.head()"
   ]
  },
  {
   "cell_type": "markdown",
   "id": "ebb09070",
   "metadata": {
    "papermill": {
     "duration": 0.008359,
     "end_time": "2023-04-02T14:08:06.467078",
     "exception": false,
     "start_time": "2023-04-02T14:08:06.458719",
     "status": "completed"
    },
    "tags": []
   },
   "source": [
    "**Visualization of Data**"
   ]
  },
  {
   "cell_type": "markdown",
   "id": "ce7f8605",
   "metadata": {
    "papermill": {
     "duration": 0.008838,
     "end_time": "2023-04-02T14:08:06.484742",
     "exception": false,
     "start_time": "2023-04-02T14:08:06.475904",
     "status": "completed"
    },
    "tags": []
   },
   "source": [
    "**Creating 3 Different DataFrame from Orignal DataFrame**"
   ]
  },
  {
   "cell_type": "code",
   "execution_count": 15,
   "id": "3ff416d9",
   "metadata": {
    "execution": {
     "iopub.execute_input": "2023-04-02T14:08:06.504684Z",
     "iopub.status.busy": "2023-04-02T14:08:06.504367Z",
     "iopub.status.idle": "2023-04-02T14:08:06.510608Z",
     "shell.execute_reply": "2023-04-02T14:08:06.509447Z"
    },
    "papermill": {
     "duration": 0.018704,
     "end_time": "2023-04-02T14:08:06.512655",
     "exception": false,
     "start_time": "2023-04-02T14:08:06.493951",
     "status": "completed"
    },
    "tags": []
   },
   "outputs": [],
   "source": [
    "df0 = df[df.target==0]\n",
    "df1 = df[df.target==1]\n",
    "df2 = df[df.target==2]"
   ]
  },
  {
   "cell_type": "markdown",
   "id": "f4b5c728",
   "metadata": {
    "papermill": {
     "duration": 0.008513,
     "end_time": "2023-04-02T14:08:06.530254",
     "exception": false,
     "start_time": "2023-04-02T14:08:06.521741",
     "status": "completed"
    },
    "tags": []
   },
   "source": [
    "**Creating Scatter Plot with \"sepal length (cm)\", \"sepal width (cm)\" as X and Y Axis**"
   ]
  },
  {
   "cell_type": "code",
   "execution_count": 16,
   "id": "d69019bd",
   "metadata": {
    "execution": {
     "iopub.execute_input": "2023-04-02T14:08:06.549628Z",
     "iopub.status.busy": "2023-04-02T14:08:06.549293Z",
     "iopub.status.idle": "2023-04-02T14:08:06.729600Z",
     "shell.execute_reply": "2023-04-02T14:08:06.728952Z"
    },
    "papermill": {
     "duration": 0.192012,
     "end_time": "2023-04-02T14:08:06.731259",
     "exception": false,
     "start_time": "2023-04-02T14:08:06.539247",
     "status": "completed"
    },
    "tags": []
   },
   "outputs": [
    {
     "data": {
      "text/plain": [
       "Text(0, 0.5, 'sepal width (cm)')"
      ]
     },
     "execution_count": 16,
     "metadata": {},
     "output_type": "execute_result"
    },
    {
     "data": {
      "image/png": "[encoded data removed]",
      "text/plain": [
       "<Figure size 640x480 with 1 Axes>"
      ]
     },
     "metadata": {},
     "output_type": "display_data"
    }
   ],
   "source": [
    "plt.scatter(df0[\"sepal length (cm)\"],df0[\"sepal width (cm)\"],color=\"red\",marker=\"+\")\n",
    "plt.scatter(df1[\"sepal length (cm)\"],df1[\"sepal width (cm)\"],color=\"green\",marker=\"*\")\n",
    "plt.xlabel(\"sepal length (cm)\")\n",
    "plt.ylabel(\"sepal width (cm)\")"
   ]
  },
  {
   "cell_type": "markdown",
   "id": "bfb7f3b4",
   "metadata": {
    "papermill": {
     "duration": 0.009097,
     "end_time": "2023-04-02T14:08:06.749814",
     "exception": false,
     "start_time": "2023-04-02T14:08:06.740717",
     "status": "completed"
    },
    "tags": []
   },
   "source": [
    "**Creating Scatter Plot with \"petal length (cm)\", \"petal width (cm)\" as X and Y Axis**"
   ]
  },
  {
   "cell_type": "code",
   "execution_count": 17,
   "id": "5a334999",
   "metadata": {
    "execution": {
     "iopub.execute_input": "2023-04-02T14:08:06.770122Z",
     "iopub.status.busy": "2023-04-02T14:08:06.769540Z",
     "iopub.status.idle": "2023-04-02T14:08:06.929078Z",
     "shell.execute_reply": "2023-04-02T14:08:06.927336Z"
    },
    "papermill": {
     "duration": 0.172272,
     "end_time": "2023-04-02T14:08:06.931331",
     "exception": false,
     "start_time": "2023-04-02T14:08:06.759059",
     "status": "completed"
    },
    "tags": []
   },
   "outputs": [
    {
     "data": {
      "text/plain": [
       "Text(0, 0.5, 'petal width (cm)')"
      ]
     },
     "execution_count": 17,
     "metadata": {},
     "output_type": "execute_result"
    },
    {
     "data": {
      "image/png": "[encoded data removed]",
      "text/plain": [
       "<Figure size 640x480 with 1 Axes>"
      ]
     },
     "metadata": {},
     "output_type": "display_data"
    }
   ],
   "source": [
    "plt.scatter(df0[\"petal length (cm)\"],df0[\"petal width (cm)\"],color=\"red\",marker=\"+\")\n",
    "plt.scatter(df1[\"petal length (cm)\"],df1[\"petal width (cm)\"],color=\"green\",marker=\"*\")\n",
    "plt.xlabel(\"petal length (cm)\")\n",
    "plt.ylabel(\"petal width (cm)\")"
   ]
  },
  {
   "cell_type": "markdown",
   "id": "b3ec024a",
   "metadata": {
    "papermill": {
     "duration": 0.009621,
     "end_time": "2023-04-02T14:08:06.951122",
     "exception": false,
     "start_time": "2023-04-02T14:08:06.941501",
     "status": "completed"
    },
    "tags": []
   },
   "source": [
    "**Creating Dependent and Independent Variable**"
   ]
  },
  {
   "cell_type": "code",
   "execution_count": 18,
   "id": "89857fc1",
   "metadata": {
    "execution": {
     "iopub.execute_input": "2023-04-02T14:08:06.972845Z",
     "iopub.status.busy": "2023-04-02T14:08:06.972499Z",
     "iopub.status.idle": "2023-04-02T14:08:06.986671Z",
     "shell.execute_reply": "2023-04-02T14:08:06.985416Z"
    },
    "papermill": {
     "duration": 0.028032,
     "end_time": "2023-04-02T14:08:06.989386",
     "exception": false,
     "start_time": "2023-04-02T14:08:06.961354",
     "status": "completed"
    },
    "tags": []
   },
   "outputs": [
    {
     "data": {
      "text/html": [
       "<div>\n",
       "<style scoped>\n",
       "    .dataframe tbody tr th:only-of-type {\n",
       "        vertical-align: middle;\n",
       "    }\n",
       "\n",
       "    .dataframe tbody tr th {\n",
       "        vertical-align: top;\n",
       "    }\n",
       "\n",
       "    .dataframe thead th {\n",
       "        text-align: right;\n",
       "    }\n",
       "</style>\n",
       "<table border=\"1\" class=\"dataframe\">\n",
       "  <thead>\n",
       "    <tr style=\"text-align: right;\">\n",
       "      <th></th>\n",
       "      <th>sepal length (cm)</th>\n",
       "      <th>sepal width (cm)</th>\n",
       "      <th>petal length (cm)</th>\n",
       "      <th>petal width (cm)</th>\n",
       "    </tr>\n",
       "  </thead>\n",
       "  <tbody>\n",
       "    <tr>\n",
       "      <th>0</th>\n",
       "      <td>5.1</td>\n",
       "      <td>3.5</td>\n",
       "      <td>1.4</td>\n",
       "      <td>0.2</td>\n",
       "    </tr>\n",
       "    <tr>\n",
       "      <th>1</th>\n",
       "      <td>4.9</td>\n",
       "      <td>3.0</td>\n",
       "      <td>1.4</td>\n",
       "      <td>0.2</td>\n",
       "    </tr>\n",
       "    <tr>\n",
       "      <th>2</th>\n",
       "      <td>4.7</td>\n",
       "      <td>3.2</td>\n",
       "      <td>1.3</td>\n",
       "      <td>0.2</td>\n",
       "    </tr>\n",
       "    <tr>\n",
       "      <th>3</th>\n",
       "      <td>4.6</td>\n",
       "      <td>3.1</td>\n",
       "      <td>1.5</td>\n",
       "      <td>0.2</td>\n",
       "    </tr>\n",
       "    <tr>\n",
       "      <th>4</th>\n",
       "      <td>5.0</td>\n",
       "      <td>3.6</td>\n",
       "      <td>1.4</td>\n",
       "      <td>0.2</td>\n",
       "    </tr>\n",
       "  </tbody>\n",
       "</table>\n",
       "</div>"
      ],
      "text/plain": [
       "   sepal length (cm)  sepal width (cm)  petal length (cm)  petal width (cm)\n",
       "0                5.1               3.5                1.4               0.2\n",
       "1                4.9               3.0                1.4               0.2\n",
       "2                4.7               3.2                1.3               0.2\n",
       "3                4.6               3.1                1.5               0.2\n",
       "4                5.0               3.6                1.4               0.2"
      ]
     },
     "execution_count": 18,
     "metadata": {},
     "output_type": "execute_result"
    }
   ],
   "source": [
    "X = df.drop([\"target\",\"flower_name\"], axis = \"columns\")\n",
    "X.head()"
   ]
  },
  {
   "cell_type": "code",
   "execution_count": 19,
   "id": "f2865419",
   "metadata": {
    "execution": {
     "iopub.execute_input": "2023-04-02T14:08:07.011592Z",
     "iopub.status.busy": "2023-04-02T14:08:07.011220Z",
     "iopub.status.idle": "2023-04-02T14:08:07.018857Z",
     "shell.execute_reply": "2023-04-02T14:08:07.017921Z"
    },
    "papermill": {
     "duration": 0.02088,
     "end_time": "2023-04-02T14:08:07.020707",
     "exception": false,
     "start_time": "2023-04-02T14:08:06.999827",
     "status": "completed"
    },
    "tags": []
   },
   "outputs": [
    {
     "data": {
      "text/plain": [
       "0    0\n",
       "1    0\n",
       "2    0\n",
       "3    0\n",
       "4    0\n",
       "Name: target, dtype: int32"
      ]
     },
     "execution_count": 19,
     "metadata": {},
     "output_type": "execute_result"
    }
   ],
   "source": [
    "y = df.target\n",
    "y.head()"
   ]
  },
  {
   "cell_type": "markdown",
   "id": "46839d24",
   "metadata": {
    "papermill": {
     "duration": 0.009827,
     "end_time": "2023-04-02T14:08:07.040580",
     "exception": false,
     "start_time": "2023-04-02T14:08:07.030753",
     "status": "completed"
    },
    "tags": []
   },
   "source": [
    "**Train Test Split**"
   ]
  },
  {
   "cell_type": "code",
   "execution_count": 20,
   "id": "4138b640",
   "metadata": {
    "execution": {
     "iopub.execute_input": "2023-04-02T14:08:07.062978Z",
     "iopub.status.busy": "2023-04-02T14:08:07.062672Z",
     "iopub.status.idle": "2023-04-02T14:08:07.133881Z",
     "shell.execute_reply": "2023-04-02T14:08:07.132345Z"
    },
    "papermill": {
     "duration": 0.085725,
     "end_time": "2023-04-02T14:08:07.136434",
     "exception": false,
     "start_time": "2023-04-02T14:08:07.050709",
     "status": "completed"
    },
    "tags": []
   },
   "outputs": [],
   "source": [
    "from sklearn.model_selection import train_test_split"
   ]
  },
  {
   "cell_type": "code",
   "execution_count": 21,
   "id": "a4b084f1",
   "metadata": {
    "execution": {
     "iopub.execute_input": "2023-04-02T14:08:07.159300Z",
     "iopub.status.busy": "2023-04-02T14:08:07.158943Z",
     "iopub.status.idle": "2023-04-02T14:08:07.167804Z",
     "shell.execute_reply": "2023-04-02T14:08:07.166366Z"
    },
    "papermill": {
     "duration": 0.023407,
     "end_time": "2023-04-02T14:08:07.170577",
     "exception": false,
     "start_time": "2023-04-02T14:08:07.147170",
     "status": "completed"
    },
    "tags": []
   },
   "outputs": [],
   "source": [
    "X_train, X_test, y_train, y_test = train_test_split(X, y, test_size=0.2)"
   ]
  },
  {
   "cell_type": "code",
   "execution_count": 22,
   "id": "32a8c932",
   "metadata": {
    "execution": {
     "iopub.execute_input": "2023-04-02T14:08:07.193621Z",
     "iopub.status.busy": "2023-04-02T14:08:07.193264Z",
     "iopub.status.idle": "2023-04-02T14:08:07.199939Z",
     "shell.execute_reply": "2023-04-02T14:08:07.198544Z"
    },
    "papermill": {
     "duration": 0.02161,
     "end_time": "2023-04-02T14:08:07.202693",
     "exception": false,
     "start_time": "2023-04-02T14:08:07.181083",
     "status": "completed"
    },
    "tags": []
   },
   "outputs": [
    {
     "data": {
      "text/plain": [
       "(120, 30)"
      ]
     },
     "execution_count": 22,
     "metadata": {},
     "output_type": "execute_result"
    }
   ],
   "source": [
    "len(X_train), len(X_test)"
   ]
  },
  {
   "cell_type": "markdown",
   "id": "49972d48",
   "metadata": {
    "papermill": {
     "duration": 0.011116,
     "end_time": "2023-04-02T14:08:07.224363",
     "exception": false,
     "start_time": "2023-04-02T14:08:07.213247",
     "status": "completed"
    },
    "tags": []
   },
   "source": [
    "**Importing KNN Classifier**"
   ]
  },
  {
   "cell_type": "code",
   "execution_count": 23,
   "id": "693217a5",
   "metadata": {
    "execution": {
     "iopub.execute_input": "2023-04-02T14:08:07.248366Z",
     "iopub.status.busy": "2023-04-02T14:08:07.248033Z",
     "iopub.status.idle": "2023-04-02T14:08:07.360590Z",
     "shell.execute_reply": "2023-04-02T14:08:07.359200Z"
    },
    "papermill": {
     "duration": 0.128189,
     "end_time": "2023-04-02T14:08:07.363314",
     "exception": false,
     "start_time": "2023-04-02T14:08:07.235125",
     "status": "completed"
    },
    "tags": []
   },
   "outputs": [],
   "source": [
    "from sklearn.neighbors import KNeighborsClassifier"
   ]
  },
  {
   "cell_type": "code",
   "execution_count": 24,
   "id": "29417035",
   "metadata": {
    "execution": {
     "iopub.execute_input": "2023-04-02T14:08:07.388687Z",
     "iopub.status.busy": "2023-04-02T14:08:07.387554Z",
     "iopub.status.idle": "2023-04-02T14:08:07.392873Z",
     "shell.execute_reply": "2023-04-02T14:08:07.391972Z"
    },
    "papermill": {
     "duration": 0.020481,
     "end_time": "2023-04-02T14:08:07.395576",
     "exception": false,
     "start_time": "2023-04-02T14:08:07.375095",
     "status": "completed"
    },
    "tags": []
   },
   "outputs": [],
   "source": [
    "knn = KNeighborsClassifier(n_neighbors=10)"
   ]
  },
  {
   "cell_type": "markdown",
   "id": "1ab6447b",
   "metadata": {
    "papermill": {
     "duration": 0.010957,
     "end_time": "2023-04-02T14:08:07.418269",
     "exception": false,
     "start_time": "2023-04-02T14:08:07.407312",
     "status": "completed"
    },
    "tags": []
   },
   "source": [
    "**Fitting the Model**"
   ]
  },
  {
   "cell_type": "code",
   "execution_count": 25,
   "id": "c3fadb64",
   "metadata": {
    "execution": {
     "iopub.execute_input": "2023-04-02T14:08:07.442116Z",
     "iopub.status.busy": "2023-04-02T14:08:07.441689Z",
     "iopub.status.idle": "2023-04-02T14:08:07.459065Z",
     "shell.execute_reply": "2023-04-02T14:08:07.457488Z"
    },
    "papermill": {
     "duration": 0.033127,
     "end_time": "2023-04-02T14:08:07.462211",
     "exception": false,
     "start_time": "2023-04-02T14:08:07.429084",
     "status": "completed"
    },
    "tags": []
   },
   "outputs": [
    {
     "data": {
      "text/html": [
       "<style>#sk-container-id-1 {color: black;background-color: white;}#sk-container-id-1 pre{padding: 0;}#sk-container-id-1 div.sk-toggleable {background-color: white;}#sk-container-id-1 label.sk-toggleable__label {cursor: pointer;display: block;width: 100%;margin-bottom: 0;padding: 0.3em;box-sizing: border-box;text-align: center;}#sk-container-id-1 label.sk-toggleable__label-arrow:before {content: \"▸\";float: left;margin-right: 0.25em;color: #696969;}#sk-container-id-1 label.sk-toggleable__label-arrow:hover:before {color: black;}#sk-container-id-1 div.sk-estimator:hover label.sk-toggleable__label-arrow:before {color: black;}#sk-container-id-1 div.sk-toggleable__content {max-height: 0;max-width: 0;overflow: hidden;text-align: left;background-color: #f0f8ff;}#sk-container-id-1 div.sk-toggleable__content pre {margin: 0.2em;color: black;border-radius: 0.25em;background-color: #f0f8ff;}#sk-container-id-1 input.sk-toggleable__control:checked~div.sk-toggleable__content {max-height: 200px;max-width: 100%;overflow: auto;}#sk-container-id-1 input.sk-toggleable__control:checked~label.sk-toggleable__label-arrow:before {content: \"▾\";}#sk-container-id-1 div.sk-estimator input.sk-toggleable__control:checked~label.sk-toggleable__label {background-color: #d4ebff;}#sk-container-id-1 div.sk-label input.sk-toggleable__control:checked~label.sk-toggleable__label {background-color: #d4ebff;}#sk-container-id-1 input.sk-hidden--visually {border: 0;clip: rect(1px 1px 1px 1px);clip: rect(1px, 1px, 1px, 1px);height: 1px;margin: -1px;overflow: hidden;padding: 0;position: absolute;width: 1px;}#sk-container-id-1 div.sk-estimator {font-family: monospace;background-color: #f0f8ff;border: 1px dotted black;border-radius: 0.25em;box-sizing: border-box;margin-bottom: 0.5em;}#sk-container-id-1 div.sk-estimator:hover {background-color: #d4ebff;}#sk-container-id-1 div.sk-parallel-item::after {content: \"\";width: 100%;border-bottom: 1px solid gray;flex-grow: 1;}#sk-container-id-1 div.sk-label:hover label.sk-toggleable__label {background-color: #d4ebff;}#sk-container-id-1 div.sk-serial::before {content: \"\";position: absolute;border-left: 1px solid gray;box-sizing: border-box;top: 0;bottom: 0;left: 50%;z-index: 0;}#sk-container-id-1 div.sk-serial {display: flex;flex-direction: column;align-items: center;background-color: white;padding-right: 0.2em;padding-left: 0.2em;position: relative;}#sk-container-id-1 div.sk-item {position: relative;z-index: 1;}#sk-container-id-1 div.sk-parallel {display: flex;align-items: stretch;justify-content: center;background-color: white;position: relative;}#sk-container-id-1 div.sk-item::before, #sk-container-id-1 div.sk-parallel-item::before {content: \"\";position: absolute;border-left: 1px solid gray;box-sizing: border-box;top: 0;bottom: 0;left: 50%;z-index: -1;}#sk-container-id-1 div.sk-parallel-item {display: flex;flex-direction: column;z-index: 1;position: relative;background-color: white;}#sk-container-id-1 div.sk-parallel-item:first-child::after {align-self: flex-end;width: 50%;}#sk-container-id-1 div.sk-parallel-item:last-child::after {align-self: flex-start;width: 50%;}#sk-container-id-1 div.sk-parallel-item:only-child::after {width: 0;}#sk-container-id-1 div.sk-dashed-wrapped {border: 1px dashed gray;margin: 0 0.4em 0.5em 0.4em;box-sizing: border-box;padding-bottom: 0.4em;background-color: white;}#sk-container-id-1 div.sk-label label {font-family: monospace;font-weight: bold;display: inline-block;line-height: 1.2em;}#sk-container-id-1 div.sk-label-container {text-align: center;}#sk-container-id-1 div.sk-container {/* jupyter's `normalize.less` sets `[hidden] { display: none; }` but bootstrap.min.css set `[hidden] { display: none !important; }` so we also need the `!important` here to be able to override the default hidden behavior on the sphinx rendered scikit-learn.org. See: https://github.com/scikit-learn/scikit-learn/issues/21755 */display: inline-block !important;position: relative;}#sk-container-id-1 div.sk-text-repr-fallback {display: none;}</style><div id=\"sk-container-id-1\" class=\"sk-top-container\"><div class=\"sk-text-repr-fallback\"><pre>KNeighborsClassifier(n_neighbors=10)</pre><b>In a Jupyter environment, please rerun this cell to show the HTML representation or trust the notebook. <br />On GitHub, the HTML representation is unable to render, please try loading this page with nbviewer.org.</b></div><div class=\"sk-container\" hidden><div class=\"sk-item\"><div class=\"sk-estimator sk-toggleable\"><input class=\"sk-toggleable__control sk-hidden--visually\" id=\"sk-estimator-id-1\" type=\"checkbox\" checked><label for=\"sk-estimator-id-1\" class=\"sk-toggleable__label sk-toggleable__label-arrow\">KNeighborsClassifier</label><div class=\"sk-toggleable__content\"><pre>KNeighborsClassifier(n_neighbors=10)</pre></div></div></div></div></div>"
      ],
      "text/plain": [
       "KNeighborsClassifier(n_neighbors=10)"
      ]
     },
     "execution_count": 25,
     "metadata": {},
     "output_type": "execute_result"
    }
   ],
   "source": [
    "knn.fit(X_train, y_train)"
   ]
  },
  {
   "cell_type": "markdown",
   "id": "d6fc8779",
   "metadata": {
    "papermill": {
     "duration": 0.010551,
     "end_time": "2023-04-02T14:08:07.483687",
     "exception": false,
     "start_time": "2023-04-02T14:08:07.473136",
     "status": "completed"
    },
    "tags": []
   },
   "source": [
    "**Predicting Result from Model**"
   ]
  },
  {
   "cell_type": "code",
   "execution_count": 26,
   "id": "97a1ed2c",
   "metadata": {
    "execution": {
     "iopub.execute_input": "2023-04-02T14:08:07.507384Z",
     "iopub.status.busy": "2023-04-02T14:08:07.506959Z",
     "iopub.status.idle": "2023-04-02T14:08:07.519669Z",
     "shell.execute_reply": "2023-04-02T14:08:07.518177Z"
    },
    "papermill": {
     "duration": 0.027391,
     "end_time": "2023-04-02T14:08:07.522179",
     "exception": false,
     "start_time": "2023-04-02T14:08:07.494788",
     "status": "completed"
    },
    "tags": []
   },
   "outputs": [
    {
     "name": "stderr",
     "output_type": "stream",
     "text": [
      "C:\\Users\\iamri\\AppData\\Local\\Programs\\Python\\Python311\\Lib\\site-packages\\sklearn\\base.py:409: UserWarning: X does not have valid feature names, but KNeighborsClassifier was fitted with feature names\n",
      "  warnings.warn(\n"
     ]
    },
    {
     "data": {
      "text/plain": [
       "array([0])"
      ]
     },
     "execution_count": 26,
     "metadata": {},
     "output_type": "execute_result"
    }
   ],
   "source": [
    "knn.predict([[5.1,3.5,1.4,0.2]]) #Values from iris DataFrame with index=0"
   ]
  },
  {
   "cell_type": "code",
   "execution_count": 27,
   "id": "9a01d463",
   "metadata": {
    "execution": {
     "iopub.execute_input": "2023-04-02T14:08:07.545265Z",
     "iopub.status.busy": "2023-04-02T14:08:07.544922Z",
     "iopub.status.idle": "2023-04-02T14:08:07.553842Z",
     "shell.execute_reply": "2023-04-02T14:08:07.552365Z"
    },
    "papermill": {
     "duration": 0.022338,
     "end_time": "2023-04-02T14:08:07.555551",
     "exception": false,
     "start_time": "2023-04-02T14:08:07.533213",
     "status": "completed"
    },
    "tags": []
   },
   "outputs": [
    {
     "name": "stderr",
     "output_type": "stream",
     "text": [
      "C:\\Users\\iamri\\AppData\\Local\\Programs\\Python\\Python311\\Lib\\site-packages\\sklearn\\base.py:409: UserWarning: X does not have valid feature names, but KNeighborsClassifier was fitted with feature names\n",
      "  warnings.warn(\n"
     ]
    },
    {
     "data": {
      "text/plain": [
       "array([1])"
      ]
     },
     "execution_count": 27,
     "metadata": {},
     "output_type": "execute_result"
    }
   ],
   "source": [
    "knn.predict([[7.0,3.2,4.7,1.4]]) #Values from iris DataFrame with index=50"
   ]
  },
  {
   "cell_type": "code",
   "execution_count": 28,
   "id": "cd4045e5",
   "metadata": {
    "execution": {
     "iopub.execute_input": "2023-04-02T14:08:07.578575Z",
     "iopub.status.busy": "2023-04-02T14:08:07.578245Z",
     "iopub.status.idle": "2023-04-02T14:08:07.588055Z",
     "shell.execute_reply": "2023-04-02T14:08:07.586464Z"
    },
    "papermill": {
     "duration": 0.024518,
     "end_time": "2023-04-02T14:08:07.590797",
     "exception": false,
     "start_time": "2023-04-02T14:08:07.566279",
     "status": "completed"
    },
    "tags": []
   },
   "outputs": [
    {
     "name": "stderr",
     "output_type": "stream",
     "text": [
      "C:\\Users\\iamri\\AppData\\Local\\Programs\\Python\\Python311\\Lib\\site-packages\\sklearn\\base.py:409: UserWarning: X does not have valid feature names, but KNeighborsClassifier was fitted with feature names\n",
      "  warnings.warn(\n"
     ]
    },
    {
     "data": {
      "text/plain": [
       "array([2])"
      ]
     },
     "execution_count": 28,
     "metadata": {},
     "output_type": "execute_result"
    }
   ],
   "source": [
    "knn.predict([[6.3,3.3,6.0,2.5]]) #Values from iris DataFrame with index=100"
   ]
  },
  {
   "cell_type": "markdown",
   "id": "3bd448f5",
   "metadata": {
    "papermill": {
     "duration": 0.010365,
     "end_time": "2023-04-02T14:08:07.611964",
     "exception": false,
     "start_time": "2023-04-02T14:08:07.601599",
     "status": "completed"
    },
    "tags": []
   },
   "source": [
    "**Score of Model**"
   ]
  },
  {
   "cell_type": "code",
   "execution_count": 29,
   "id": "4b14e190",
   "metadata": {
    "execution": {
     "iopub.execute_input": "2023-04-02T14:08:07.635269Z",
     "iopub.status.busy": "2023-04-02T14:08:07.634867Z",
     "iopub.status.idle": "2023-04-02T14:08:07.642825Z",
     "shell.execute_reply": "2023-04-02T14:08:07.642189Z"
    },
    "papermill": {
     "duration": 0.022488,
     "end_time": "2023-04-02T14:08:07.645198",
     "exception": false,
     "start_time": "2023-04-02T14:08:07.622710",
     "status": "completed"
    },
    "tags": []
   },
   "outputs": [
    {
     "data": {
      "text/plain": [
       "0.9333333333333333"
      ]
     },
     "execution_count": 29,
     "metadata": {},
     "output_type": "execute_result"
    }
   ],
   "source": [
    "knn.score(X_test, y_test)"
   ]
  },
  {
   "cell_type": "markdown",
   "id": "09ab1f07",
   "metadata": {},
   "source": [
    "**Importing Confusion Matrix**"
   ]
  },
  {
   "cell_type": "code",
   "execution_count": 30,
   "id": "526a0149",
   "metadata": {},
   "outputs": [],
   "source": [
    "from sklearn.metrics import confusion_matrix"
   ]
  },
  {
   "cell_type": "code",
   "execution_count": 31,
   "id": "8ea62946",
   "metadata": {},
   "outputs": [],
   "source": [
    "y_pred = knn.predict(X_test)"
   ]
  },
  {
   "cell_type": "code",
   "execution_count": 33,
   "id": "d5cd21cf",
   "metadata": {},
   "outputs": [],
   "source": [
    "cm = confusion_matrix(y_test, y_pred)"
   ]
  },
  {
   "cell_type": "markdown",
   "id": "627258cd",
   "metadata": {},
   "source": [
    "**Plotting Confusion Matrix**"
   ]
  },
  {
   "cell_type": "code",
   "execution_count": 37,
   "id": "a6c28e7f",
   "metadata": {},
   "outputs": [
    {
     "data": {
      "text/plain": [
       "Text(45.722222222222214, 0.5, 'Truth')"
      ]
     },
     "execution_count": 37,
     "metadata": {},
     "output_type": "execute_result"
    },
    {
     "data": {
      "image/png": "[encoded data removed]",
      "text/plain": [
       "<Figure size 600x500 with 2 Axes>"
      ]
     },
     "metadata": {},
     "output_type": "display_data"
    }
   ],
   "source": [
    "plt.figure(figsize=(6,5))\n",
    "sns.heatmap(cm, annot=True)\n",
    "plt.xlabel('Predicted')\n",
    "plt.ylabel('Truth')"
   ]
  }
 ],
 "metadata": {
  "kernelspec": {
   "display_name": "Python 3 (ipykernel)",
   "language": "python",
   "name": "python3"
  },
  "language_info": {
   "codemirror_mode": {
    "name": "ipython",
    "version": 3
   },
   "file_extension": ".py",
   "mimetype": "text/x-python",
   "name": "python",
   "nbconvert_exporter": "python",
   "pygments_lexer": "ipython3",
   "version": "3.11.1"
  },
  "papermill": {
   "default_parameters": {},
   "duration": 12.555381,
   "end_time": "2023-04-02T14:08:08.477247",
   "environment_variables": {},
   "exception": null,
   "input_path": "__notebook__.ipynb",
   "output_path": "__notebook__.ipynb",
   "parameters": {},
   "start_time": "2023-04-02T14:07:55.921866",
   "version": "2.4.0"
  }
 },
 "nbformat": 4,
 "nbformat_minor": 5
}
